{
 "cells": [
  {
   "cell_type": "code",
   "execution_count": null,
   "metadata": {},
   "outputs": [],
   "source": [
    "import os\n",
    "from bs4 import BeautifulSoup as bs\n",
    "import requests\n",
    "from splinter import Browser\n",
    "from flask import Flask, render_template\n",
    "import pymongo\n",
    "\n"
   ]
  },
  {
   "cell_type": "code",
   "execution_count": null,
   "metadata": {},
   "outputs": [],
   "source": [
    "\n",
    "def init_browser():\n",
    "    executable_path = {\"executable_path\":\"chromedriver.exe\"}\n",
    "    browser = Browser('chrome',**executable_path, headless=False)\n",
    "\n",
    "def scrape_info():\n",
    "    browser=init_browser\n"
   ]
  },
  {
   "cell_type": "code",
   "execution_count": null,
   "metadata": {},
   "outputs": [],
   "source": [
    "    url = 'https://mars.nasa.gov/news/'\n",
    "    browser.visit(url)\n",
    "\n",
    "    time.sleep(1)\n",
    "\n",
    "    html = browser.html\n",
    "    soup = bs(html, \"html.parser\")\n",
    "    \n",
    "    articles = soup.find_all(\"div\", class_=\"list_text\")\n",
    "    \n",
    "    for article in articles:\n",
    "        title = article.find('div', class_='content_title').text\n",
    "        body = article.find('div', class_='article_teaser_body').text\n",
    "        \n",
    "        \n",
    "    #browser.click_link_by_partial_text('Next')\n",
    "\n",
    "\n",
    "def scrape_featured():\n",
    "    browser=init_browser\n"
   ]
  },
  {
   "cell_type": "code",
   "execution_count": null,
   "metadata": {},
   "outputs": [],
   "source": [
    "    feature = 'https://www.jpl.nasa.gov/spaceimages/details.php?id=PIA00271'\n",
    "    browser.visit(feature)\n",
    "\n",
    "def scrape_hemi1():\n",
    "    browser=init_browser\n",
    "\n",
    "    hemi1='https://astrogeology.usgs.gov/search/map/Mars/Viking/cerberus_enhanced'\n",
    "    browser.visit(hemi1)\n",
    "\n",
    "def scrape_hemi2():\n",
    "    browser=init_browser\n",
    "\n",
    "    scrape_hemi2='https://astrogeology.usgs.gov/search/map/Mars/Viking/schiaparelli_enhanced''\n",
    "    browser.visit(hemi2)\n",
    "\n",
    "def scrape_hemi3():\n",
    "    browser=init_browser\n",
    "\n",
    "    scrape_hemi3='https://astrogeology.usgs.gov/search/map/Mars/Viking/syrtis_major_enhanced'\n",
    "    browser.visit(hemi3)\n",
    "\n",
    "def scrape_hemi4():\n",
    "    browser=init_browser\n",
    "\n",
    "    scrape_hemi4='https://astrogeology.usgs.gov/search/map/Mars/Viking/valles_marineris_enhanced'\n",
    "    browser.visit(hemi4)\n",
    "\n",
    "    # Store data in a dictionary\n",
    "    marsdict = {\n",
    "        \"featured_img\": featured_img,\n",
    "        \"url2\":\n",
    "    }\n",
    "\n",
    "    \n",
    "\n",
    "browser.quit()\n",
    "       \n"
   ]
  },
  {
   "cell_type": "code",
   "execution_count": null,
   "metadata": {},
   "outputs": [],
   "source": [
    "import pandas as pd        \n",
    "url = 'https://space-facts.com/mars/'\n",
    "        \n"
   ]
  },
  {
   "cell_type": "code",
   "execution_count": null,
   "metadata": {},
   "outputs": [],
   "source": [
    "tables = pd.read_html(url)\n",
    "print(tables[0])\n",
    "\n",
    "tables[2].head()\n",
    "    \n",
    "    "
   ]
  },
  {
   "cell_type": "code",
   "execution_count": null,
   "metadata": {},
   "outputs": [],
   "source": [
    "type(tables)\n",
    "\n"
   ]
  },
  {
   "cell_type": "code",
   "execution_count": null,
   "metadata": {},
   "outputs": [],
   "source": [
    "df=tables[0]\n",
    "df.columns = ['Measure', 'Fact']\n",
    "df.head()\n",
    "\n"
   ]
  },
  {
   "cell_type": "code",
   "execution_count": null,
   "metadata": {},
   "outputs": [],
   "source": [
    "#def init_browser():\n",
    "    #executable_path = {\"executable_path\":\"chromedriver.exe\"}\n",
    "    #return Browser(\"chrome\", **executable_path, headless=False)\n",
    "\n"
   ]
  },
  {
   "cell_type": "code",
   "execution_count": null,
   "metadata": {},
   "outputs": [],
   "source": [
    "df = df.iloc[1:]\n",
    "df.set_index('Measure', inplace=True)\n",
    "df.head()\n",
    "\n"
   ]
  },
  {
   "cell_type": "code",
   "execution_count": null,
   "metadata": {},
   "outputs": [],
   "source": [
    "html_table = df.to_html()\n",
    "html_table\n",
    "\n"
   ]
  },
  {
   "cell_type": "code",
   "execution_count": null,
   "metadata": {},
   "outputs": [],
   "source": [
    "html_table.replace('\\n', '')\n",
    "\n"
   ]
  },
  {
   "cell_type": "code",
   "execution_count": null,
   "metadata": {},
   "outputs": [],
   "source": [
    "\n",
    "\n"
   ]
  },
  {
   "cell_type": "code",
   "execution_count": null,
   "metadata": {},
   "outputs": [],
   "source": [
    "#for abb in med_abbreviations:\n",
    "    #print(abb, df.loc[abb].full_name)\n",
    "\n"
   ]
  },
  {
   "cell_type": "code",
   "execution_count": null,
   "metadata": {},
   "outputs": [],
   "source": [
    "#def scrape():\n",
    "    #browser = init_browser()\n",
    "    \n",
    "\n",
    "\n"
   ]
  }
 ],
 "metadata": {
  "kernelspec": {
   "display_name": "Python 3",
   "language": "python",
   "name": "python3"
  },
  "language_info": {
   "codemirror_mode": {
    "name": "ipython",
    "version": 3
   },
   "file_extension": ".py",
   "mimetype": "text/x-python",
   "name": "python",
   "nbconvert_exporter": "python",
   "pygments_lexer": "ipython3",
   "version": "3.8.3"
  }
 },
 "nbformat": 4,
 "nbformat_minor": 2
}
